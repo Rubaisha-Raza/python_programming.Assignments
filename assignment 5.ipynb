{
 "cells": [
  {
   "cell_type": "code",
   "execution_count": 2,
   "metadata": {},
   "outputs": [
    {
     "name": "stdout",
     "output_type": "stream",
     "text": [
      "Enter a Non-Negative-Integer Number:-8\n",
      "You enter a Wrong Number. Enter a non negetive number\n"
     ]
    }
   ],
   "source": [
    "#Write a python function to calculate the factorial of the non negetive integer and the function take the number as an argument\n",
    "def factorial(num):\n",
    "    if num == 0:\n",
    "        return 1\n",
    "    if num > 0:\n",
    "        result = num * factorial(num - 1)\n",
    "        return result\n",
    "\n",
    "num = int(input(\"Enter a Non-Negative-Integer Number:\"))\n",
    "\n",
    "if num >= 0:\n",
    "    result = factorial(num)\n",
    "    print(\"The Factorial of input Number is: \",result)\n",
    "else:\n",
    "    print(\"You enter a Wrong Number. Enter a non negetive number\")"
   ]
  },
  {
   "cell_type": "code",
   "execution_count": 21,
   "metadata": {},
   "outputs": [
    {
     "name": "stdout",
     "output_type": "stream",
     "text": [
      "Enter any String: RubaishaBasitRaza\n",
      "Your Entered Strings has 3 upper characters and 14 lower characters\n"
     ]
    }
   ],
   "source": [
    "#Write a python function that accepts a string and calculate the number of upper case and lower case letter\n",
    "def upperlower(strings):\n",
    "    upperstr = 0\n",
    "    lowerstr = 0\n",
    "    for string in strings:\n",
    "        if string.isupper() == True:\n",
    "            upperstr += 1\n",
    "        elif string.islower() == True:\n",
    "            lowerstr += 1\n",
    "    print(f\"Your Entered Strings has {upperstr} upper characters and {lowerstr} lower characters\")\n",
    "strings = input(\"Enter any String: \")\n",
    "upperlower(strings)"
   ]
  },
  {
   "cell_type": "code",
   "execution_count": 52,
   "metadata": {},
   "outputs": [
    {
     "name": "stdout",
     "output_type": "stream",
     "text": [
      "The Even Number in your defined list:\n",
      "[12, 22]\n"
     ]
    }
   ],
   "source": [
    "#Write a python function to print even number from a given list\n",
    "def even(lists):\n",
    "    Even = []\n",
    "    for check in lists:\n",
    "        if check % 2 == 0:\n",
    "            Even.append(check)\n",
    "    print(f\"The Even Number in your defined list:\\n{Even}\")\n",
    "lists = [12,22,17,1,13,5,7]\n",
    "even(lists)"
   ]
  },
  {
   "cell_type": "code",
   "execution_count": 56,
   "metadata": {},
   "outputs": [
    {
     "name": "stdout",
     "output_type": "stream",
     "text": [
      "Enter any word: Nolemon,nomelon\n",
      "Your Entered words \"Nolemon,nomelon\" are Palindrome\n"
     ]
    }
   ],
   "source": [
    "#Write a Python function that checks whether a passed string is palindrome or not.\n",
    "w = input(\"Enter any word: \")\n",
    "palindrome = \"\"\n",
    "for letter in w[-1::-1].lower():\n",
    "    palindrome = palindrome + letter\n",
    "if palindrome == w.lower():\n",
    "    print(f\"Your Entered words \\\"{w}\\\" are Palindrome\")\n",
    "else:\n",
    "    print(f\"Your Entered words {w} are not Palindrome\")"
   ]
  },
  {
   "cell_type": "code",
   "execution_count": 58,
   "metadata": {},
   "outputs": [
    {
     "name": "stdout",
     "output_type": "stream",
     "text": [
      "Enter a number: 24\n",
      "24 is not a prime number!\n"
     ]
    }
   ],
   "source": [
    "#Write a Python function that takes a number as a parameter and check the number is prime or not.\n",
    "def prime(num):\n",
    "    count=0\n",
    "    for i in range(1,num + 1):\n",
    "        if num % i == 0:\n",
    "            count += 1\n",
    "    if count == 2:\n",
    "        print(num,\"is a prime number!\")\n",
    "    else:\n",
    "        print(num,\"is not a prime number!\")\n",
    "        \n",
    "num = int(input(\"Enter a number: \"))\n",
    "prime(num)\n"
   ]
  },
  {
   "cell_type": "code",
   "execution_count": 60,
   "metadata": {},
   "outputs": [
    {
     "name": "stdout",
     "output_type": "stream",
     "text": [
      "The Customer Shopping's list are: \n",
      "Vegetables\n",
      "Clothes\n",
      "Acessories\n",
      "Breads\n"
     ]
    }
   ],
   "source": [
    "#Write a function which accepts the multiple arguments of user shopping list andprint all the items which user bought from market.\n",
    "def items(*item):\n",
    "    print(\"The Customer Shopping's list are: \")\n",
    "    for value in item:\n",
    "        print(value)\n",
    "items(\"Vegetables\", \"Clothes\", \"Acessories\",\"Breads\")"
   ]
  },
  {
   "cell_type": "code",
   "execution_count": null,
   "metadata": {},
   "outputs": [],
   "source": []
  }
 ],
 "metadata": {
  "kernelspec": {
   "display_name": "Python 3",
   "language": "python",
   "name": "python3"
  },
  "language_info": {
   "codemirror_mode": {
    "name": "ipython",
    "version": 3
   },
   "file_extension": ".py",
   "mimetype": "text/x-python",
   "name": "python",
   "nbconvert_exporter": "python",
   "pygments_lexer": "ipython3",
   "version": "3.7.4"
  }
 },
 "nbformat": 4,
 "nbformat_minor": 2
}
