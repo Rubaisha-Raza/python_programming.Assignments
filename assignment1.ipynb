{
 "cells": [
  {
   "cell_type": "code",
   "execution_count": 6,
   "metadata": {},
   "outputs": [
    {
     "name": "stdout",
     "output_type": "stream",
     "text": [
      "Twinkle, Twinkel, Little Star,\n",
      "\tHow I wonder what you are!\n",
      "\t\tUp above the world so high,\n",
      "\t\tLike a diamond in the sky.\n",
      "Twinkle, Twinkel, Little Star,\n",
      "\tHow I wonder what you are!\n"
     ]
    }
   ],
   "source": [
    "print(\"Twinkle, Twinkel, Little Star,\")\n",
    "print(\"\\t\"+\"How I wonder what you are!\")\n",
    "print(\"\\t\"+\"\\t\"+\"Up above the world so high,\")\n",
    "print(\"\\t\"+\"\\t\"+\"Like a diamond in the sky.\")\n",
    "print(\"Twinkle, Twinkel, Little Star,\")\n",
    "print(\"\\t\"+\"How I wonder what you are!\")"
   ]
  },
  {
   "cell_type": "code",
   "execution_count": 7,
   "metadata": {},
   "outputs": [
    {
     "name": "stdout",
     "output_type": "stream",
     "text": [
      "Python Version\n",
      "\n",
      "3.7.4 (default, Aug  9 2019, 18:22:51) [MSC v.1915 32 bit (Intel)]\n",
      "Python Version Info\n",
      "\n",
      "sys.version_info(major=3, minor=7, micro=4, releaselevel='final', serial=0)\n"
     ]
    }
   ],
   "source": [
    "import sys\n",
    "\n",
    "print (\"Python Version\"+\"\\n\")\n",
    "print(sys.version)\n",
    "print (\"Python Version Info\"+\"\\n\")\n",
    "print(sys.version_info)"
   ]
  },
  {
   "cell_type": "code",
   "execution_count": 8,
   "metadata": {},
   "outputs": [
    {
     "name": "stdout",
     "output_type": "stream",
     "text": [
      "2019-12-21 10:20:39.159434\n"
     ]
    }
   ],
   "source": [
    "import datetime\n",
    "now = datetime.datetime.now()\n",
    "print(now)"
   ]
  },
  {
   "cell_type": "code",
   "execution_count": 9,
   "metadata": {},
   "outputs": [
    {
     "name": "stdout",
     "output_type": "stream",
     "text": [
      "Enter radius of a circle  45\n",
      "Area of Circle is  6362.55\n"
     ]
    }
   ],
   "source": [
    "pie = 3.142\n",
    "radius = int(input(\"Enter radius of a circle  \"));\n",
    "r= radius**2\n",
    "Area = r*pie\n",
    "print (\"Area of Circle is \",+ Area)"
   ]
  },
  {
   "cell_type": "code",
   "execution_count": 10,
   "metadata": {},
   "outputs": [
    {
     "name": "stdout",
     "output_type": "stream",
     "text": [
      "Enter your First Name  Rubaisha\n",
      "Enter your Last Name  Raza\n",
      "Rubaisha Raza\n",
      "\n",
      "In Reverse Order\n",
      "\n",
      "Raza Rubaisha\n"
     ]
    }
   ],
   "source": [
    "a = (input(\"Enter your First Name  \"));\n",
    "b = (input(\"Enter your Last Name  \"));\n",
    "c= a +\" \"+ b+\"\\n\"\n",
    "print (c)\n",
    "\n",
    "print (\"In Reverse Order\"+\"\\n\")\n",
    "print(b+\" \"+ a)"
   ]
  },
  {
   "cell_type": "code",
   "execution_count": 11,
   "metadata": {},
   "outputs": [
    {
     "name": "stdout",
     "output_type": "stream",
     "text": [
      "Enter your First Number  34\n",
      "Enter your Second Number  54\n",
      "88\n"
     ]
    }
   ],
   "source": [
    "a = int(input(\"Enter your First Number  \"));\n",
    "b = int(input(\"Enter your Second Number  \"));\n",
    "c= a+b\n",
    "print (c)"
   ]
  }
 ],
 "metadata": {
  "kernelspec": {
   "display_name": "Python 3",
   "language": "python",
   "name": "python3"
  },
  "language_info": {
   "codemirror_mode": {
    "name": "ipython",
    "version": 3
   },
   "file_extension": ".py",
   "mimetype": "text/x-python",
   "name": "python",
   "nbconvert_exporter": "python",
   "pygments_lexer": "ipython3",
   "version": "3.7.4"
  }
 },
 "nbformat": 4,
 "nbformat_minor": 2
}
