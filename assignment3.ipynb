{
 "cells": [
  {
   "cell_type": "code",
   "execution_count": 2,
   "metadata": {},
   "outputs": [
    {
     "name": "stdout",
     "output_type": "stream",
     "text": [
      "Enter First Value 56\n",
      "Enter Second Value 23\n",
      "select Operator -\n",
      "33\n"
     ]
    }
   ],
   "source": [
    "#Make a calculator using Python with addition , subtraction , multiplication ,division and power.\n",
    "input1 = int(input('Enter First Value '))\n",
    "input2 = int(input('Enter Second Value '))\n",
    "select = input(\"select Operator \")\n",
    "\n",
    "if select == '**': \n",
    "    Answer = input1 ** input2\n",
    "    print(Answer) \n",
    "elif select == '-':\n",
    "    Answer = input1 - input2\n",
    "    print(Answer)\n",
    "elif select == '+': \n",
    "    Answer = input1 + input2\n",
    "    print(Answer) \n",
    "elif select == '*': \n",
    "    Answer = input1 * input2\n",
    "    print(Answer) \n",
    "elif select == '/': \n",
    "    Answer = input1 / input2\n",
    "    print(Answer)\n",
    "else: \n",
    "    print(\"Invalid operator has been slected\")"
   ]
  },
  {
   "cell_type": "code",
   "execution_count": 19,
   "metadata": {},
   "outputs": [
    {
     "name": "stdout",
     "output_type": "stream",
     "text": [
      "Numeric Value not Found.\n",
      "Found numeric value\n",
      "Numeric Value not Found.\n",
      "Numeric Value not Found.\n",
      "Found numeric value\n"
     ]
    }
   ],
   "source": [
    "#Write a program to check if there is any numeric value in list using for loop\n",
    "list = [\"a\",1,\"b\", \"c\",1]\n",
    "\n",
    "for element in list:\n",
    "    if type(element).__name__ == 'int':\n",
    "        print(\"Found numeric value\")\n",
    "        #break\n",
    "    else:\n",
    "        print(\"Numeric Value not Found.\")\n",
    "        #continue"
   ]
  },
  {
   "cell_type": "code",
   "execution_count": 21,
   "metadata": {},
   "outputs": [
    {
     "name": "stdout",
     "output_type": "stream",
     "text": [
      "{'first name': 'Rubaisha', 'middle name': 'Basit', 'last name': 'Raza'}\n",
      "{'first name': 'Rubaisha', 'middle name': 'Basit', 'last name': 'Raza', 'Date of Birth': '03-March-1997'}\n"
     ]
    }
   ],
   "source": [
    "#Write a Python script to add a key to a dictionary\n",
    "info = {\"first name\" :\"Rubaisha\" , \"middle name\":\"Basit\",\n",
    "        \"last name\" : \"Raza\"\n",
    "       }\n",
    "print(info)\n",
    "info[\"Date of Birth\"] = '03-March-1997'\n",
    "print(info)"
   ]
  },
  {
   "cell_type": "code",
   "execution_count": 25,
   "metadata": {},
   "outputs": [
    {
     "name": "stdout",
     "output_type": "stream",
     "text": [
      "700\n"
     ]
    }
   ],
   "source": [
    "#Write a Python program to sum all the numeric items in a dictionary\n",
    "list = {'a': 2, 'b':33 ,'c':67,'d':98,'e':500}\n",
    "print(sum(list.values()))"
   ]
  },
  {
   "cell_type": "code",
   "execution_count": 27,
   "metadata": {},
   "outputs": [
    {
     "name": "stdout",
     "output_type": "stream",
     "text": [
      "Duplicate values in given list: \n",
      "a\n"
     ]
    }
   ],
   "source": [
    "#Write a program to identify duplicate values from list\n",
    "list = [\"r\", \"u\",\"b\", \"a\", \"i\", \"s\", \"h\", \"a\"];     \n",
    "     \n",
    "print(\"Duplicate values in given list: \");    \n",
    "   \n",
    "for i in range(0, len(list)):    \n",
    "    for j in range(i+1, len(list)):    \n",
    "        if(list[i] == list[j]):    \n",
    "            print(list[j]);"
   ]
  },
  {
   "cell_type": "code",
   "execution_count": 30,
   "metadata": {},
   "outputs": [
    {
     "name": "stdout",
     "output_type": "stream",
     "text": [
      "Key is present in the dictionary\n"
     ]
    }
   ],
   "source": [
    "#Write a Python script to check if a given key already exists in a dictionary\n",
    "list= {10,  20, 30,  40,  50,  60}\n",
    "def present(x):\n",
    "    if x in list:\n",
    "        print('Key is present in the dictionary')\n",
    "    else:\n",
    "        print('Key is not present in the dictionary')\n",
    "present(50)\n"
   ]
  },
  {
   "cell_type": "code",
   "execution_count": null,
   "metadata": {},
   "outputs": [],
   "source": []
  }
 ],
 "metadata": {
  "kernelspec": {
   "display_name": "Python 3",
   "language": "python",
   "name": "python3"
  },
  "language_info": {
   "codemirror_mode": {
    "name": "ipython",
    "version": 3
   },
   "file_extension": ".py",
   "mimetype": "text/x-python",
   "name": "python",
   "nbconvert_exporter": "python",
   "pygments_lexer": "ipython3",
   "version": "3.7.4"
  }
 },
 "nbformat": 4,
 "nbformat_minor": 2
}
