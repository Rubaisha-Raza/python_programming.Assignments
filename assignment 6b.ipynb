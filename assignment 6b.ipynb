{
 "cells": [
  {
   "cell_type": "code",
   "execution_count": 15,
   "metadata": {},
   "outputs": [
    {
     "name": "stdout",
     "output_type": "stream",
     "text": [
      "Car Details\n",
      "\n",
      "Owner and car model\n",
      "Name:Ferrari\n",
      "Model:250 GT\n",
      "\n",
      "Car Specs and Info\n",
      "Color:red\n",
      "Engine: 1800cc\n",
      "Origin: Made in Japan\n",
      "Car Details\n",
      "\n",
      "Owner and car model\n",
      "Name:Toyota\n",
      "Model:Corolla Altis\n",
      "\n",
      "Car Specs and Info\n",
      "Color:white\n",
      "Engine:1800cc\n",
      "Origin: Made in Japan\n",
      "\n",
      "Car Details\n",
      "\n",
      "Owner and car model\n",
      "Name:Ford MustangModel:GT350\n",
      "\n",
      "Car Specs and Info\n",
      "Color:black \n",
      "Engine:1800cc\n",
      "Origin:Made in Japan\n",
      "\n"
     ]
    }
   ],
   "source": [
    "class Car:\n",
    "    def __init__(self, name, model,color,enginecc,origin):\n",
    "        self.name = name\n",
    "        self.model = model\n",
    "        self.color = color\n",
    "        self.enginecc = enginecc\n",
    "        self.origin = origin\n",
    "        print(\"Car Details\\n\" )\n",
    "    def myfunc(self):\n",
    "         print(\"Owner and car model\\n\" + self.name+ self.model)      \n",
    "        \n",
    "    def myfunc2(self):\n",
    "        print(\"Owner and car model\\n\" + self.name+ self.model)      \n",
    "    def myfunc3(self):\n",
    "        print(\"Car Specs and Info\\n\"+self.color+ self.enginecc +self.origin)\n",
    "c1 = Car(\"Name:Ferrari\\n\", \"Model:250 GT\\n\",\"Color:red\\n\",\"Engine: 1800cc\\n\",\"Origin: Made in Japan\")\n",
    "c1.myfunc2()\n",
    "c1.myfunc3()\n",
    "c2 = Car(\"Name:Toyota\\n\", \"Model:Corolla Altis\\n\",\"Color:white\\n\",\"Engine:1800cc\\n\",\"Origin: Made in Japan\\n\")\n",
    "c2.myfunc2()\n",
    "c2.myfunc3()\n",
    "c3 = Car(\"Name:Ford Mustang\", \"Model:GT350\\n\",\"Color:black \\n\",\"Engine:1800cc\\n\",\"Origin:Made in Japan\\n\")\n",
    "c3.myfunc2()\n",
    "c3.myfunc3()"
   ]
  }
 ],
 "metadata": {
  "kernelspec": {
   "display_name": "Python 3",
   "language": "python",
   "name": "python3"
  },
  "language_info": {
   "codemirror_mode": {
    "name": "ipython",
    "version": 3
   },
   "file_extension": ".py",
   "mimetype": "text/x-python",
   "name": "python",
   "nbconvert_exporter": "python",
   "pygments_lexer": "ipython3",
   "version": "3.7.4"
  }
 },
 "nbformat": 4,
 "nbformat_minor": 2
}
