{
 "cells": [
  {
   "cell_type": "code",
   "execution_count": 41,
   "metadata": {},
   "outputs": [
    {
     "name": "stdout",
     "output_type": "stream",
     "text": [
      "Enter marks of the first subject: 78\n",
      "Enter marks of the second subject: 78\n",
      "Enter marks of the third subject: 78\n",
      "Enter marks of the fourth subject: 78\n",
      "Enter marks of the fifth subject: 78\n",
      "the total morks obtain by the student is: \n",
      "390\n",
      "Grade: C\n"
     ]
    }
   ],
   "source": [
    "#Write a program which takes 5 inputs from user for different subject’s marks, total it and generate mark sheet using grades?\n",
    "sub1=int(input(\"Enter marks of the first subject: \"))\n",
    "sub2=int(input(\"Enter marks of the second subject: \"))\n",
    "sub3=int(input(\"Enter marks of the third subject: \"))\n",
    "sub4=int(input(\"Enter marks of the fourth subject: \"))\n",
    "sub5=int(input(\"Enter marks of the fifth subject: \"))\n",
    "\n",
    "total = (sub1+sub2+sub3+sub4+sub4)\n",
    "avg=(sub1+sub2+sub3+sub4+sub4)/5\n",
    "print(\"the total morks obtain by the student is: \")\n",
    "print(total)\n",
    "if(avg>=90):\n",
    "    print(\"Grade: A\")\n",
    "elif(avg>=80 and avg<90):\n",
    "    print(\"Grade: B\")\n",
    "elif(avg>=70 and avg<80):\n",
    "    print(\"Grade: C\")\n",
    "elif(avg>=60 and avg<70):\n",
    "    print(\"Grade: D\")\n",
    "else:\n",
    "    print(\"Grade: F\")"
   ]
  },
  {
   "cell_type": "code",
   "execution_count": 57,
   "metadata": {},
   "outputs": [
    {
     "name": "stdout",
     "output_type": "stream",
     "text": [
      "enter your number: 76\n",
      "entered number is even\n"
     ]
    }
   ],
   "source": [
    "#Write a program which take input from user and identify that the given number is even or odd?\n",
    "num=int(input(\"enter your number: \"))\n",
    "\n",
    "if num%2==0:\n",
    "  print(\"entered number is even\")\n",
    "else :\n",
    "  print(\"entered number is odd\")"
   ]
  },
  {
   "cell_type": "markdown",
   "metadata": {},
   "source": []
  },
  {
   "cell_type": "code",
   "execution_count": 70,
   "metadata": {},
   "outputs": [
    {
     "name": "stdout",
     "output_type": "stream",
     "text": [
      "length of list is :  5\n"
     ]
    }
   ],
   "source": [
    "#Write a program which print the length of the list\n",
    "list=[15,34,54,67,98]\n",
    "print(\"length of list is : \" ,len(list))"
   ]
  },
  {
   "cell_type": "code",
   "execution_count": 71,
   "metadata": {},
   "outputs": [
    {
     "name": "stdout",
     "output_type": "stream",
     "text": [
      "Sum of all numeric items in list is:  268\n"
     ]
    }
   ],
   "source": [
    "#Write a Python program to sum all the numeric items in a list? \n",
    "total = sum(list)\n",
    "print(\"Sum of all numeric items in list is: \",total)"
   ]
  },
  {
   "cell_type": "code",
   "execution_count": 72,
   "metadata": {},
   "outputs": [
    {
     "name": "stdout",
     "output_type": "stream",
     "text": [
      "the largest number from a numeric list is:  98\n"
     ]
    }
   ],
   "source": [
    "# Write a Python program to get the largest number from a numeric list. \n",
    "print(\"the largest number from a numeric list is: \",max(list))"
   ]
  },
  {
   "cell_type": "code",
   "execution_count": 126,
   "metadata": {},
   "outputs": [
    {
     "name": "stdout",
     "output_type": "stream",
     "text": [
      "2\n",
      "3\n",
      "2\n",
      "4\n"
     ]
    }
   ],
   "source": [
    "#Take a list, say for example this one: \n",
    "#a = [1, 1, 2, 3, 5, 8, 13, 21, 34, 55, 89] \n",
    "#and write a program that prints out all the elements of the list that are less than 5. \n",
    "list=[2,3,2,4,15,34,54,67,98]\n",
    "for i in list:\n",
    "  if i < 5:\n",
    "   print(i)\n"
   ]
  },
  {
   "cell_type": "code",
   "execution_count": null,
   "metadata": {},
   "outputs": [],
   "source": []
  },
  {
   "cell_type": "code",
   "execution_count": null,
   "metadata": {},
   "outputs": [],
   "source": []
  },
  {
   "cell_type": "code",
   "execution_count": null,
   "metadata": {},
   "outputs": [],
   "source": []
  },
  {
   "cell_type": "code",
   "execution_count": null,
   "metadata": {},
   "outputs": [],
   "source": []
  }
 ],
 "metadata": {
  "kernelspec": {
   "display_name": "Python 3",
   "language": "python",
   "name": "python3"
  },
  "language_info": {
   "codemirror_mode": {
    "name": "ipython",
    "version": 3
   },
   "file_extension": ".py",
   "mimetype": "text/x-python",
   "name": "python",
   "nbconvert_exporter": "python",
   "pygments_lexer": "ipython3",
   "version": "3.7.4"
  }
 },
 "nbformat": 4,
 "nbformat_minor": 2
}
